{
 "cells": [
  {
   "cell_type": "code",
   "execution_count": 1,
   "id": "877f845f",
   "metadata": {},
   "outputs": [],
   "source": [
    "import pandas as pd\n",
    "import seaborn as sns\n",
    "import numpy as np\n",
    "import matplotlib.pyplot as plt\n",
    "import matplotlib.patches as mpatches"
   ]
  },
  {
   "cell_type": "code",
   "execution_count": 2,
   "id": "79ae58b7",
   "metadata": {},
   "outputs": [
    {
     "data": {
      "text/html": [
       "<div>\n",
       "<style scoped>\n",
       "    .dataframe tbody tr th:only-of-type {\n",
       "        vertical-align: middle;\n",
       "    }\n",
       "\n",
       "    .dataframe tbody tr th {\n",
       "        vertical-align: top;\n",
       "    }\n",
       "\n",
       "    .dataframe thead th {\n",
       "        text-align: right;\n",
       "    }\n",
       "</style>\n",
       "<table border=\"1\" class=\"dataframe\">\n",
       "  <thead>\n",
       "    <tr style=\"text-align: right;\">\n",
       "      <th></th>\n",
       "      <th>CALENDAR_ID</th>\n",
       "      <th>SERVICE_ABBR</th>\n",
       "      <th>ADHERENCE_ID</th>\n",
       "      <th>DATE</th>\n",
       "      <th>ROUTE_ABBR</th>\n",
       "      <th>BLOCK_ABBR</th>\n",
       "      <th>OPERATOR</th>\n",
       "      <th>TRIP_ID</th>\n",
       "      <th>OVERLOAD_ID</th>\n",
       "      <th>ROUTE_DIRECTION_NAME</th>\n",
       "      <th>...</th>\n",
       "      <th>ACTUAL_HDWY</th>\n",
       "      <th>HDWY_DEV</th>\n",
       "      <th>ADJUSTED_EARLY_COUNT</th>\n",
       "      <th>ADJUSTED_LATE_COUNT</th>\n",
       "      <th>ADJUSTED_ONTIME_COUNT</th>\n",
       "      <th>STOP_CANCELLED</th>\n",
       "      <th>PREV_SCHED_STOP_CANCELLED</th>\n",
       "      <th>IS_RELIEF</th>\n",
       "      <th>DWELL_IN_MINS</th>\n",
       "      <th>SCHEDULED_LAYOVER_MINUTES</th>\n",
       "    </tr>\n",
       "  </thead>\n",
       "  <tbody>\n",
       "    <tr>\n",
       "      <th>0</th>\n",
       "      <td>120230801</td>\n",
       "      <td>1</td>\n",
       "      <td>99457890</td>\n",
       "      <td>2023-08-01</td>\n",
       "      <td>22</td>\n",
       "      <td>2200</td>\n",
       "      <td>1040</td>\n",
       "      <td>345104</td>\n",
       "      <td>0</td>\n",
       "      <td>TO DOWNTOWN</td>\n",
       "      <td>...</td>\n",
       "      <td>NaN</td>\n",
       "      <td>NaN</td>\n",
       "      <td>0</td>\n",
       "      <td>0</td>\n",
       "      <td>1</td>\n",
       "      <td>0</td>\n",
       "      <td>0.0</td>\n",
       "      <td>0</td>\n",
       "      <td>6.500000</td>\n",
       "      <td>NaN</td>\n",
       "    </tr>\n",
       "    <tr>\n",
       "      <th>1</th>\n",
       "      <td>120230801</td>\n",
       "      <td>1</td>\n",
       "      <td>99457891</td>\n",
       "      <td>2023-08-01</td>\n",
       "      <td>22</td>\n",
       "      <td>2200</td>\n",
       "      <td>1040</td>\n",
       "      <td>345104</td>\n",
       "      <td>0</td>\n",
       "      <td>TO DOWNTOWN</td>\n",
       "      <td>...</td>\n",
       "      <td>NaN</td>\n",
       "      <td>NaN</td>\n",
       "      <td>0</td>\n",
       "      <td>0</td>\n",
       "      <td>1</td>\n",
       "      <td>0</td>\n",
       "      <td>0.0</td>\n",
       "      <td>0</td>\n",
       "      <td>0.000000</td>\n",
       "      <td>NaN</td>\n",
       "    </tr>\n",
       "    <tr>\n",
       "      <th>2</th>\n",
       "      <td>120230801</td>\n",
       "      <td>1</td>\n",
       "      <td>99457892</td>\n",
       "      <td>2023-08-01</td>\n",
       "      <td>22</td>\n",
       "      <td>2200</td>\n",
       "      <td>1040</td>\n",
       "      <td>345104</td>\n",
       "      <td>0</td>\n",
       "      <td>TO DOWNTOWN</td>\n",
       "      <td>...</td>\n",
       "      <td>NaN</td>\n",
       "      <td>NaN</td>\n",
       "      <td>0</td>\n",
       "      <td>0</td>\n",
       "      <td>1</td>\n",
       "      <td>0</td>\n",
       "      <td>0.0</td>\n",
       "      <td>0</td>\n",
       "      <td>0.000000</td>\n",
       "      <td>NaN</td>\n",
       "    </tr>\n",
       "    <tr>\n",
       "      <th>3</th>\n",
       "      <td>120230801</td>\n",
       "      <td>1</td>\n",
       "      <td>99457893</td>\n",
       "      <td>2023-08-01</td>\n",
       "      <td>22</td>\n",
       "      <td>2200</td>\n",
       "      <td>1040</td>\n",
       "      <td>345104</td>\n",
       "      <td>0</td>\n",
       "      <td>TO DOWNTOWN</td>\n",
       "      <td>...</td>\n",
       "      <td>NaN</td>\n",
       "      <td>NaN</td>\n",
       "      <td>0</td>\n",
       "      <td>0</td>\n",
       "      <td>1</td>\n",
       "      <td>0</td>\n",
       "      <td>NaN</td>\n",
       "      <td>0</td>\n",
       "      <td>0.000000</td>\n",
       "      <td>NaN</td>\n",
       "    </tr>\n",
       "    <tr>\n",
       "      <th>4</th>\n",
       "      <td>120230801</td>\n",
       "      <td>1</td>\n",
       "      <td>99457894</td>\n",
       "      <td>2023-08-01</td>\n",
       "      <td>22</td>\n",
       "      <td>2200</td>\n",
       "      <td>1040</td>\n",
       "      <td>345105</td>\n",
       "      <td>0</td>\n",
       "      <td>FROM DOWNTOWN</td>\n",
       "      <td>...</td>\n",
       "      <td>NaN</td>\n",
       "      <td>NaN</td>\n",
       "      <td>0</td>\n",
       "      <td>0</td>\n",
       "      <td>1</td>\n",
       "      <td>0</td>\n",
       "      <td>0.0</td>\n",
       "      <td>0</td>\n",
       "      <td>12.866666</td>\n",
       "      <td>5.0</td>\n",
       "    </tr>\n",
       "  </tbody>\n",
       "</table>\n",
       "<p>5 rows × 30 columns</p>\n",
       "</div>"
      ],
      "text/plain": [
       "   CALENDAR_ID  SERVICE_ABBR  ADHERENCE_ID        DATE  ROUTE_ABBR  \\\n",
       "0    120230801             1      99457890  2023-08-01          22   \n",
       "1    120230801             1      99457891  2023-08-01          22   \n",
       "2    120230801             1      99457892  2023-08-01          22   \n",
       "3    120230801             1      99457893  2023-08-01          22   \n",
       "4    120230801             1      99457894  2023-08-01          22   \n",
       "\n",
       "   BLOCK_ABBR  OPERATOR  TRIP_ID  OVERLOAD_ID ROUTE_DIRECTION_NAME  ...  \\\n",
       "0        2200      1040   345104            0          TO DOWNTOWN  ...   \n",
       "1        2200      1040   345104            0          TO DOWNTOWN  ...   \n",
       "2        2200      1040   345104            0          TO DOWNTOWN  ...   \n",
       "3        2200      1040   345104            0          TO DOWNTOWN  ...   \n",
       "4        2200      1040   345105            0        FROM DOWNTOWN  ...   \n",
       "\n",
       "  ACTUAL_HDWY  HDWY_DEV  ADJUSTED_EARLY_COUNT  ADJUSTED_LATE_COUNT  \\\n",
       "0         NaN       NaN                     0                    0   \n",
       "1         NaN       NaN                     0                    0   \n",
       "2         NaN       NaN                     0                    0   \n",
       "3         NaN       NaN                     0                    0   \n",
       "4         NaN       NaN                     0                    0   \n",
       "\n",
       "   ADJUSTED_ONTIME_COUNT STOP_CANCELLED PREV_SCHED_STOP_CANCELLED IS_RELIEF  \\\n",
       "0                      1              0                       0.0         0   \n",
       "1                      1              0                       0.0         0   \n",
       "2                      1              0                       0.0         0   \n",
       "3                      1              0                       NaN         0   \n",
       "4                      1              0                       0.0         0   \n",
       "\n",
       "   DWELL_IN_MINS  SCHEDULED_LAYOVER_MINUTES  \n",
       "0       6.500000                        NaN  \n",
       "1       0.000000                        NaN  \n",
       "2       0.000000                        NaN  \n",
       "3       0.000000                        NaN  \n",
       "4      12.866666                        5.0  \n",
       "\n",
       "[5 rows x 30 columns]"
      ]
     },
     "execution_count": 2,
     "metadata": {},
     "output_type": "execute_result"
    }
   ],
   "source": [
    "wegodf = pd.read_csv(\"../data/Headway Data, 8-1-2023 to 9-30-2023.csv\")\n",
    "\n",
    "wegodf.head()"
   ]
  },
  {
   "cell_type": "code",
   "execution_count": 3,
   "id": "cd8516db",
   "metadata": {},
   "outputs": [
    {
     "data": {
      "text/plain": [
       "ROUTE_ABBR\n",
       "3     47162\n",
       "7     18026\n",
       "22    25959\n",
       "23    42108\n",
       "50    43291\n",
       "52    51819\n",
       "55    61944\n",
       "56    60020\n",
       "Name: count, dtype: int64"
      ]
     },
     "execution_count": 3,
     "metadata": {},
     "output_type": "execute_result"
    }
   ],
   "source": [
    "wegodf['ROUTE_ABBR'].value_counts().sort_index()"
   ]
  },
  {
   "cell_type": "code",
   "execution_count": 4,
   "id": "75564827",
   "metadata": {
    "scrolled": true
   },
   "outputs": [
    {
     "data": {
      "text/html": [
       "<div>\n",
       "<style scoped>\n",
       "    .dataframe tbody tr th:only-of-type {\n",
       "        vertical-align: middle;\n",
       "    }\n",
       "\n",
       "    .dataframe tbody tr th {\n",
       "        vertical-align: top;\n",
       "    }\n",
       "\n",
       "    .dataframe thead th {\n",
       "        text-align: right;\n",
       "    }\n",
       "</style>\n",
       "<table border=\"1\" class=\"dataframe\">\n",
       "  <thead>\n",
       "    <tr style=\"text-align: right;\">\n",
       "      <th></th>\n",
       "      <th>DATE</th>\n",
       "      <th>CALENDAR_ID</th>\n",
       "      <th>TRIP_ID</th>\n",
       "      <th>ROUTE_ABBR</th>\n",
       "      <th>TIME_POINT_ABBR</th>\n",
       "      <th>TRIP_EDGE</th>\n",
       "      <th>SCHEDULED_TIME</th>\n",
       "    </tr>\n",
       "  </thead>\n",
       "  <tbody>\n",
       "    <tr>\n",
       "      <th>0</th>\n",
       "      <td>2023-08-01</td>\n",
       "      <td>120230801</td>\n",
       "      <td>345104</td>\n",
       "      <td>22</td>\n",
       "      <td>MHSP</td>\n",
       "      <td>1</td>\n",
       "      <td>2023-08-01 04:42:00</td>\n",
       "    </tr>\n",
       "    <tr>\n",
       "      <th>1</th>\n",
       "      <td>2023-08-01</td>\n",
       "      <td>120230801</td>\n",
       "      <td>345104</td>\n",
       "      <td>22</td>\n",
       "      <td>ELIZ</td>\n",
       "      <td>0</td>\n",
       "      <td>2023-08-01 04:46:00</td>\n",
       "    </tr>\n",
       "    <tr>\n",
       "      <th>2</th>\n",
       "      <td>2023-08-01</td>\n",
       "      <td>120230801</td>\n",
       "      <td>345104</td>\n",
       "      <td>22</td>\n",
       "      <td>CV23</td>\n",
       "      <td>0</td>\n",
       "      <td>2023-08-01 04:54:00</td>\n",
       "    </tr>\n",
       "    <tr>\n",
       "      <th>3</th>\n",
       "      <td>2023-08-01</td>\n",
       "      <td>120230801</td>\n",
       "      <td>345104</td>\n",
       "      <td>22</td>\n",
       "      <td>MCC5_10</td>\n",
       "      <td>2</td>\n",
       "      <td>2023-08-01 05:10:00</td>\n",
       "    </tr>\n",
       "  </tbody>\n",
       "</table>\n",
       "</div>"
      ],
      "text/plain": [
       "         DATE  CALENDAR_ID  TRIP_ID  ROUTE_ABBR TIME_POINT_ABBR  TRIP_EDGE  \\\n",
       "0  2023-08-01    120230801   345104          22            MHSP          1   \n",
       "1  2023-08-01    120230801   345104          22            ELIZ          0   \n",
       "2  2023-08-01    120230801   345104          22            CV23          0   \n",
       "3  2023-08-01    120230801   345104          22         MCC5_10          2   \n",
       "\n",
       "        SCHEDULED_TIME  \n",
       "0  2023-08-01 04:42:00  \n",
       "1  2023-08-01 04:46:00  \n",
       "2  2023-08-01 04:54:00  \n",
       "3  2023-08-01 05:10:00  "
      ]
     },
     "execution_count": 4,
     "metadata": {},
     "output_type": "execute_result"
    }
   ],
   "source": [
    "wegodf[['DATE', 'CALENDAR_ID', 'TRIP_ID', 'ROUTE_ABBR', 'TIME_POINT_ABBR', 'TRIP_EDGE', 'SCHEDULED_TIME']].loc[:3]"
   ]
  },
  {
   "cell_type": "code",
   "execution_count": 5,
   "id": "9b137e57",
   "metadata": {},
   "outputs": [],
   "source": [
    "wegodf['SCHEDULED_TIME'] = pd.to_datetime(wegodf['SCHEDULED_TIME'])"
   ]
  },
  {
   "cell_type": "code",
   "execution_count": 6,
   "id": "f8f4e75b",
   "metadata": {},
   "outputs": [],
   "source": [
    "wegodf['ACTUAL_DEPARTURE_TIME'] = pd.to_datetime(wegodf['ACTUAL_DEPARTURE_TIME'])"
   ]
  },
  {
   "cell_type": "code",
   "execution_count": 7,
   "id": "95c42be2",
   "metadata": {},
   "outputs": [],
   "source": [
    "wegodf['ACTUAL_ARRIVAL_TIME'] = pd.to_datetime(wegodf['ACTUAL_ARRIVAL_TIME'])"
   ]
  },
  {
   "cell_type": "code",
   "execution_count": 8,
   "id": "4f075171",
   "metadata": {},
   "outputs": [
    {
     "name": "stdout",
     "output_type": "stream",
     "text": [
      "CALENDAR_ID\n",
      "[120230801 120230802 120230803 120230804 120230805 120230806 120230807\n",
      " 120230808 120230809 120230810 120230811 120230812 120230813 120230814\n",
      " 120230815 120230816 120230817 120230818 120230819 120230820 120230821\n",
      " 120230822 120230823 120230824 120230825 120230826 120230827 120230828\n",
      " 120230829 120230830 120230831 120230901 120230902 120230903 120230904\n",
      " 120230905 120230906 120230907 120230908 120230909 120230910 120230911\n",
      " 120230912 120230913 120230914 120230915 120230916 120230917 120230918\n",
      " 120230919 120230920 120230921 120230922 120230923 120230924 120230925\n",
      " 120230926 120230927 120230928 120230929 120230930]\n",
      "SERVICE_ABBR\n",
      "[1 2 3]\n",
      "ADHERENCE_ID\n",
      "[ 99457890  99457891  99457892 ... 100406612 100406613 100406614]\n",
      "DATE\n",
      "['2023-08-01' '2023-08-02' '2023-08-03' '2023-08-04' '2023-08-05'\n",
      " '2023-08-06' '2023-08-07' '2023-08-08' '2023-08-09' '2023-08-10'\n",
      " '2023-08-11' '2023-08-12' '2023-08-13' '2023-08-14' '2023-08-15'\n",
      " '2023-08-16' '2023-08-17' '2023-08-18' '2023-08-19' '2023-08-20'\n",
      " '2023-08-21' '2023-08-22' '2023-08-23' '2023-08-24' '2023-08-25'\n",
      " '2023-08-26' '2023-08-27' '2023-08-28' '2023-08-29' '2023-08-30'\n",
      " '2023-08-31' '2023-09-01' '2023-09-02' '2023-09-03' '2023-09-04'\n",
      " '2023-09-05' '2023-09-06' '2023-09-07' '2023-09-08' '2023-09-09'\n",
      " '2023-09-10' '2023-09-11' '2023-09-12' '2023-09-13' '2023-09-14'\n",
      " '2023-09-15' '2023-09-16' '2023-09-17' '2023-09-18' '2023-09-19'\n",
      " '2023-09-20' '2023-09-21' '2023-09-22' '2023-09-23' '2023-09-24'\n",
      " '2023-09-25' '2023-09-26' '2023-09-27' '2023-09-28' '2023-09-29'\n",
      " '2023-09-30']\n",
      "ROUTE_ABBR\n",
      "[22 23  3  7 50 52 55 56]\n",
      "BLOCK_ABBR\n",
      "[2200 2201 2202 2210 2211 2300 2301 2302 2303 2310 2311 2312 2313  300\n",
      "  301  302  303  304  305  310  311  312  313  314  315  316  317  318\n",
      "  319 4101 5000 5001 5002 5003 5004 5005 5006 5200 5201 5202 5203 5204\n",
      " 5205 5206 5210 5211 5212 5213 5214 5215 5216 5217 5218 5500 5501 5502\n",
      " 5503 5504 5505 5506 5507 5508 5509 5510 5511 5512 5513 5592 5593 5594\n",
      " 5600 5601 5602 5603 5604 5605 5606 5607 5608 5609 5610 5611  700  701\n",
      "  702  703  704  705  706 2804  390 5094 5590 5690 6401 8401 8405 8601\n",
      " 8604 9302 9950 9975]\n",
      "OPERATOR\n",
      "[1040 2374 2689 1617 2427 1892 1190 1222 2355 2125 2649 1761 1893 2041\n",
      " 1170 1823 1198 1147  522 2603  409 2958 2088 2348 2706 1368 3100 2529\n",
      " 1237 1992 2059 2441 1204  326 2306 2177  559 2963 1948 2230 1703 2569\n",
      " 2055 2675 2752  517 2586 2623  907 1682 1619 1133  659 1266 1623 1938\n",
      " 1410 1705 1927 1391 2629  304  357 2500 2112 1505 1904 2577 1052 1800\n",
      " 2253 1489 1542 2624 2062  359 1582 2428  332 2967 3016 2760 2584 1206\n",
      " 2399 3124 2109 1208 3012 1361 2990 1650 1359  611 1590 2832 2560  520\n",
      " 2371 1175 2200 1352 2714 1500 2817 3096 1958 2458 1601 1343 1016 2217\n",
      " 1866 2987 1372 2792 1330 2733 1713 1406 2780  471 2638 1780 1177 2221\n",
      " 1743 3144  572 2400  341 2312  778 2697  723 2324 2164 2618 2563 2809\n",
      " 2448 1762 1401 2352  414 2497 2357 2545 3088 3015 2703  624 1566 2040\n",
      " 3103 1736 2765 2610 3013 1379 3127 2549 3090 1730 3087 3035 2479 3128\n",
      " 2954 1865 1914 2793 2207 1277 2505 1717 2783 1598 2161 2001 2630 1997\n",
      " 2585 2335 1922 1716 1842 2246 2594 2512 2600 3093 1788 2972 2254 2969\n",
      " 3079 2356 3101 1782 1814 2590 1848 3020 2530 2547 3064 1792 2764 3099\n",
      " 2821 3031 1824 3001 1603 1251 2053 2978 1389 2580 3102 2943 2976 2762\n",
      " 2362 2151 2127 1815 2962 1419 2747  785 2531 2138 2779 2751 1078 2669\n",
      " 2440 2876 3098 1838 2642 1797 1457 2432 3122 2534 2322 2368 1394 2424\n",
      " 3027 2693 3129 2103 2126 2102 2567 2573  329 1867 2012 1202 2228 2694\n",
      "  379 2546 2321 2082 1377 1593 1305  623 3134 2423 2033  653 2662 3080\n",
      " 2435 3126 2137 1763 3116 1621 3120 2982 1606 2639 1597 1984 2313 3140\n",
      " 1524 1915  465 3142 2332 3138   56 2459 3118 1596 1362 1880 2989  301\n",
      " 2503  235 2178 2493 2294 1363  656    0 1673 1706 3156 1742 2464 2784\n",
      " 3149 3077 2338  244 2256  473 2646 2309 2472 2094 3165 1889 2494 1845\n",
      " 3173 2377  375 3166 2029]\n",
      "TRIP_ID\n",
      "[345104 345105 345106 ... 354069 354098 354106]\n",
      "OVERLOAD_ID\n",
      "[0 1 3 2 4]\n",
      "ROUTE_DIRECTION_NAME\n",
      "['TO DOWNTOWN' 'FROM DOWNTOWN']\n",
      "TIME_POINT_ABBR\n",
      "['MHSP' 'ELIZ' 'CV23' 'MCC5_10' 'CLFF' 'HPKL' 'YGKG' '25ACLARK' 'DWMRT'\n",
      " 'EDBC' 'DKTL' 'N1SP' 'MCC4_24' 'WHBG' 'HRWB' 'WE31' 'WE23' 'MCC5_5'\n",
      " 'BRCJ' 'MP&R' 'HBHS' '21BK' 'MCC5_12' 'WALM' 'HLWD' 'CH46' '28&CHARL'\n",
      " 'MCC5_1' 'HCKP' 'WMRT' 'THNV' 'NVFG' 'MCC4_19' 'LINWAL' 'DCSCC' 'HDANT'\n",
      " 'HHWM' 'MXBELL' 'MXDONEL' 'MXTHOMP' 'MXWHARF' 'MCC4_15' 'GXRVRGAT'\n",
      " 'GXMADISO' 'GXGRNFLD' 'GXFIVEPT' 'MCC4_18' 'SAMS' 'MCC5_9' 'MCC5_6'\n",
      " 'MCC4_20' 'MLKS' 'MCC4_13' 'MEIG' 'MCC4_22' 'MCC5_11' 'ARTS' 'MCC5_7'\n",
      " 'MCC5_2' 'HEAD' 'CRES']\n",
      "ROUTE_STOP_SEQUENCE\n",
      "[14. 10.  5.  1.  9.  8.  7. 12. 13.  6.  4.  3.  2. 17. 16. 15. 11. nan]\n",
      "TRIP_EDGE\n",
      "[1 0 2]\n",
      "LATITUDE\n",
      "[36.181248  36.193454  36.182177  36.1670905 36.18348   36.195013\n",
      " 36.192856  36.218706  36.203239  36.18635   36.24406   36.231512\n",
      " 36.244207  36.204256  36.175714  36.175433  36.205694  36.149179\n",
      " 36.125659  36.143233  36.148685  36.149007  36.14304   36.126788\n",
      " 36.069342  36.079608  36.069474  36.107575  36.138372  36.1324506\n",
      " 36.138535  36.149997  36.152077  36.15387   36.154039  36.152286\n",
      " 36.150052  36.138948  36.048934  36.082032  36.112037  36.135392\n",
      " 36.135034  36.111844  36.082309  36.083421  36.086817  36.087288\n",
      " 36.083418  36.0526371 36.072852  36.106276  36.127172  36.14886\n",
      " 36.148839  36.128164  36.105615  36.07199   36.30047   36.257412\n",
      " 36.210362  36.179753  36.179433  36.21007   36.2565672 36.300827\n",
      " 36.307973  36.138881  36.161197  36.176017  36.131395  36.1586589\n",
      " 36.194535  36.161272 ]\n",
      "LONGITUDE\n",
      "[-86.847705  -86.839981  -86.814445  -86.7819226 -86.81422   -86.837902\n",
      " -86.828554  -86.834137  -86.840636  -86.816998  -86.757403  -86.78049\n",
      " -86.760509  -86.769112  -86.774535  -86.77432   -86.768557  -86.858044\n",
      " -86.8465    -86.814581  -86.804611  -86.804449  -86.815175  -86.845188\n",
      " -86.933604  -86.955657  -86.933429  -86.812719  -86.800622  -86.907214\n",
      " -86.88113   -86.858261  -86.842746  -86.818414  -86.818055  -86.842032\n",
      " -86.858652  -86.880902  -86.713854  -86.726914  -86.745666  -86.759737\n",
      " -86.759818  -86.745821  -86.72734   -86.703471  -86.686874  -86.692935\n",
      " -86.704722  -86.6548782 -86.636862  -86.672801  -86.711441  -86.762226\n",
      " -86.76271   -86.713199  -86.672004  -86.636496  -86.69561   -86.714068\n",
      " -86.733625  -86.750216  -86.750111  -86.733544  -86.7140998 -86.694508\n",
      " -86.685963  -86.80018   -86.760399  -86.7404    -86.8046835 -86.837139\n",
      " -86.800248 ]\n",
      "SCHEDULED_TIME\n",
      "<DatetimeArray>\n",
      "['2023-08-01 04:42:00', '2023-08-01 04:46:00', '2023-08-01 04:54:00',\n",
      " '2023-08-01 05:10:00', '2023-08-01 05:15:00', '2023-08-01 05:25:00',\n",
      " '2023-08-01 05:32:00', '2023-08-01 05:42:00', '2023-08-01 05:46:00',\n",
      " '2023-08-01 05:54:00',\n",
      " ...\n",
      " '2023-09-30 16:56:00', '2023-09-30 18:48:00', '2023-09-30 20:12:00',\n",
      " '2023-09-30 09:21:00', '2023-09-30 17:46:00', '2023-09-30 19:14:00',\n",
      " '2023-09-30 19:22:00', '2023-09-30 13:36:00', '2023-09-30 21:10:00',\n",
      " '2023-09-30 23:46:00']\n",
      "Length: 70792, dtype: datetime64[ns]\n",
      "ACTUAL_ARRIVAL_TIME\n",
      "<DatetimeArray>\n",
      "['2023-08-01 04:37:38', '2023-08-01 04:48:27', '2023-08-01 04:54:56',\n",
      " '2023-08-01 05:03:43', '2023-08-01 05:24:03', '2023-08-01 05:30:30',\n",
      " '2023-08-01 05:47:55', '2023-08-01 05:54:11', '2023-08-01 06:05:31',\n",
      " '2023-08-01 06:23:30',\n",
      " ...\n",
      " '2023-09-30 21:02:20', '2023-09-30 21:12:40', '2023-09-30 21:30:00',\n",
      " '2023-09-30 21:43:52', '2023-09-30 22:22:39', '2023-09-30 22:31:26',\n",
      " '2023-09-30 22:49:18', '2023-09-30 22:49:19', '2023-09-30 23:21:05',\n",
      " '2023-09-30 23:31:27']\n",
      "Length: 272181, dtype: datetime64[ns]\n",
      "ACTUAL_DEPARTURE_TIME\n",
      "<DatetimeArray>\n",
      "['2023-08-01 04:44:08', '2023-08-01 04:48:27', '2023-08-01 04:54:56',\n",
      " '2023-08-01 05:03:43', '2023-08-01 05:16:35', '2023-08-01 05:24:03',\n",
      " '2023-08-01 05:30:30', '2023-08-01 05:43:43', '2023-08-01 05:47:55',\n",
      " '2023-08-01 05:54:11',\n",
      " ...\n",
      " '2023-09-30 21:16:51', '2023-09-30 21:30:00', '2023-09-30 21:50:54',\n",
      " '2023-09-30 22:22:39', '2023-09-30 22:24:37', '2023-09-30 22:31:26',\n",
      " '2023-09-30 22:49:18', '2023-09-30 22:49:19', '2023-09-30 23:21:05',\n",
      " '2023-09-30 23:34:40']\n",
      "Length: 323086, dtype: datetime64[ns]\n",
      "ADHERENCE\n",
      "[ -2.133333  -2.45      -0.933333 ... -55.533333 -29.683333  13.366666]\n",
      "SCHEDULED_HDWY\n",
      "[ nan  35.  15.  60.  63.  16.  55.  12.  50.  13.  49.  25.  24.  30.\n",
      "  68.  33.  28.  23.  45.  46.  10.  51. 503.  80.  65.  59.  57.  32.\n",
      "  22.  20.  21.  11.  31.  19.  17.  48.  36.  39.  38.  40.  42.  14.\n",
      "  29.  44.  41.  18.  61. 100.   9.   8.  43.   7.  26.  34.  37.  53.\n",
      " 407.   5.  27.  84.  70.  64.  99.  52.  62.  58.  90.  89.   2.   0.\n",
      "   6.]\n",
      "ACTUAL_HDWY\n",
      "[      nan 37.666666 36.966666 ... 72.333333 73.516666 79.733333]\n",
      "HDWY_DEV\n",
      "[       nan   2.666666   1.966666 ... -21.883334 -22.983334 -17.5     ]\n",
      "ADJUSTED_EARLY_COUNT\n",
      "[0 1]\n",
      "ADJUSTED_LATE_COUNT\n",
      "[0 1]\n",
      "ADJUSTED_ONTIME_COUNT\n",
      "[1 0]\n",
      "STOP_CANCELLED\n",
      "[0 1]\n",
      "PREV_SCHED_STOP_CANCELLED\n",
      "[ 0. nan  1.]\n",
      "IS_RELIEF\n",
      "[0 1]\n",
      "DWELL_IN_MINS\n",
      "[ 6.5       0.       12.866666 ... 61.633333 40.716666  0.133333]\n",
      "SCHEDULED_LAYOVER_MINUTES\n",
      "[ nan   5.  10.   7.   9.   4.  18.  15.  19.   6.  17.   8.   2.  20.\n",
      "   3.  11.  31.  13.  14.  22.  29.  21.  23.   0.  12.  43.  16.  41.\n",
      "  32.  25.  42.  24.  34.  44.  27.  40.  26.  28.  33.  38.  36.  30.\n",
      "  35.   1.  37.  61. 118.]\n"
     ]
    }
   ],
   "source": [
    "#useful for iterating over every column and seeing a sample of the unique values within each column:\n",
    "\n",
    "for series_name, series in wegodf.items():\n",
    "    print(series_name)\n",
    "    print(wegodf[series_name].unique())"
   ]
  },
  {
   "cell_type": "code",
   "execution_count": null,
   "id": "7f3fdb90",
   "metadata": {},
   "outputs": [],
   "source": []
  },
  {
   "cell_type": "markdown",
   "id": "0a39717b",
   "metadata": {},
   "source": [
    "## 1. What is the overall on-time performance, and what do the overall distributions of adherence and headway deviation look like?"
   ]
  },
  {
   "cell_type": "code",
   "execution_count": 9,
   "id": "5fe6a193",
   "metadata": {},
   "outputs": [
    {
     "name": "stderr",
     "output_type": "stream",
     "text": [
      "C:\\Users\\adaly\\anaconda3\\Lib\\site-packages\\seaborn\\_oldcore.py:1119: FutureWarning: use_inf_as_na option is deprecated and will be removed in a future version. Convert inf values to NaN before operating instead.\n",
      "  with pd.option_context('mode.use_inf_as_na', True):\n"
     ]
    },
    {
     "data": {
      "image/png": "[encoded data removed]",
      "text/plain": [
       "<Figure size 640x480 with 1 Axes>"
      ]
     },
     "metadata": {},
     "output_type": "display_data"
    }
   ],
   "source": [
    "#Overall distribution of adherence\n",
    "sns.set_theme(style=\"darkgrid\")\n",
    "sns.histplot(data=wegodf, x=\"ADHERENCE\", binwidth=3)\n",
    "plt.ylim(0, 150000)\n",
    "plt.xlim(-25, 25)\n",
    "plt.xlabel(\"Adherences\")\n",
    "plt.ylabel(\"Counts of Adherence\")\n",
    "plt.title(\"Overall Bus Adherence\")\n",
    "plt.show()"
   ]
  },
  {
   "cell_type": "code",
   "execution_count": 10,
   "id": "72acd21a",
   "metadata": {},
   "outputs": [
    {
     "name": "stderr",
     "output_type": "stream",
     "text": [
      "C:\\Users\\adaly\\anaconda3\\Lib\\site-packages\\seaborn\\_oldcore.py:1119: FutureWarning: use_inf_as_na option is deprecated and will be removed in a future version. Convert inf values to NaN before operating instead.\n",
      "  with pd.option_context('mode.use_inf_as_na', True):\n"
     ]
    },
    {
     "data": {
      "image/png": "[encoded data removed]",
      "text/plain": [
       "<Figure size 640x480 with 1 Axes>"
      ]
     },
     "metadata": {},
     "output_type": "display_data"
    }
   ],
   "source": [
    "#Overall distribution of headway deviation\n",
    "sns.set_theme(style=\"darkgrid\")\n",
    "sns.histplot(data=wegodf, x=\"HDWY_DEV\", binwidth=3)\n",
    "plt.ylim(0, 150000)\n",
    "plt.xlim(-25, 25)\n",
    "plt.xlabel(\"Headway Deviation\")\n",
    "plt.ylabel(\"Counts of Headway Deviation\")\n",
    "plt.title(\"Overall Headway Deviation\")\n",
    "plt.show()"
   ]
  },
  {
   "cell_type": "code",
   "execution_count": null,
   "id": "ea5b5e07",
   "metadata": {},
   "outputs": [],
   "source": []
  },
  {
   "cell_type": "markdown",
   "id": "366b61e2",
   "metadata": {},
   "source": [
    "## 2. How does direction of travel, route, or location affect the headway and on-time performance?"
   ]
  },
  {
   "cell_type": "code",
   "execution_count": 23,
   "id": "e29fe2ac",
   "metadata": {},
   "outputs": [
    {
     "data": {
      "text/html": [
       "<div>\n",
       "<style scoped>\n",
       "    .dataframe tbody tr th:only-of-type {\n",
       "        vertical-align: middle;\n",
       "    }\n",
       "\n",
       "    .dataframe tbody tr th {\n",
       "        vertical-align: top;\n",
       "    }\n",
       "\n",
       "    .dataframe thead th {\n",
       "        text-align: right;\n",
       "    }\n",
       "</style>\n",
       "<table border=\"1\" class=\"dataframe\">\n",
       "  <thead>\n",
       "    <tr style=\"text-align: right;\">\n",
       "      <th></th>\n",
       "      <th>ROUTE_ABBR</th>\n",
       "      <th>ADJUSTED_ONTIME_COUNT</th>\n",
       "      <th>ontime_count</th>\n",
       "    </tr>\n",
       "  </thead>\n",
       "  <tbody>\n",
       "    <tr>\n",
       "      <th>5</th>\n",
       "      <td>22</td>\n",
       "      <td>0</td>\n",
       "      <td>3467</td>\n",
       "    </tr>\n",
       "    <tr>\n",
       "      <th>3</th>\n",
       "      <td>7</td>\n",
       "      <td>0</td>\n",
       "      <td>4609</td>\n",
       "    </tr>\n",
       "    <tr>\n",
       "      <th>7</th>\n",
       "      <td>23</td>\n",
       "      <td>0</td>\n",
       "      <td>6971</td>\n",
       "    </tr>\n",
       "    <tr>\n",
       "      <th>9</th>\n",
       "      <td>50</td>\n",
       "      <td>0</td>\n",
       "      <td>6982</td>\n",
       "    </tr>\n",
       "    <tr>\n",
       "      <th>15</th>\n",
       "      <td>56</td>\n",
       "      <td>0</td>\n",
       "      <td>11659</td>\n",
       "    </tr>\n",
       "    <tr>\n",
       "      <th>1</th>\n",
       "      <td>3</td>\n",
       "      <td>0</td>\n",
       "      <td>12646</td>\n",
       "    </tr>\n",
       "    <tr>\n",
       "      <th>2</th>\n",
       "      <td>7</td>\n",
       "      <td>1</td>\n",
       "      <td>13417</td>\n",
       "    </tr>\n",
       "    <tr>\n",
       "      <th>11</th>\n",
       "      <td>52</td>\n",
       "      <td>0</td>\n",
       "      <td>14083</td>\n",
       "    </tr>\n",
       "    <tr>\n",
       "      <th>13</th>\n",
       "      <td>55</td>\n",
       "      <td>0</td>\n",
       "      <td>19864</td>\n",
       "    </tr>\n",
       "    <tr>\n",
       "      <th>4</th>\n",
       "      <td>22</td>\n",
       "      <td>1</td>\n",
       "      <td>22492</td>\n",
       "    </tr>\n",
       "    <tr>\n",
       "      <th>0</th>\n",
       "      <td>3</td>\n",
       "      <td>1</td>\n",
       "      <td>34516</td>\n",
       "    </tr>\n",
       "    <tr>\n",
       "      <th>6</th>\n",
       "      <td>23</td>\n",
       "      <td>1</td>\n",
       "      <td>35137</td>\n",
       "    </tr>\n",
       "    <tr>\n",
       "      <th>8</th>\n",
       "      <td>50</td>\n",
       "      <td>1</td>\n",
       "      <td>36309</td>\n",
       "    </tr>\n",
       "    <tr>\n",
       "      <th>10</th>\n",
       "      <td>52</td>\n",
       "      <td>1</td>\n",
       "      <td>37736</td>\n",
       "    </tr>\n",
       "    <tr>\n",
       "      <th>12</th>\n",
       "      <td>55</td>\n",
       "      <td>1</td>\n",
       "      <td>42080</td>\n",
       "    </tr>\n",
       "    <tr>\n",
       "      <th>14</th>\n",
       "      <td>56</td>\n",
       "      <td>1</td>\n",
       "      <td>48361</td>\n",
       "    </tr>\n",
       "  </tbody>\n",
       "</table>\n",
       "</div>"
      ],
      "text/plain": [
       "    ROUTE_ABBR  ADJUSTED_ONTIME_COUNT  ontime_count\n",
       "5           22                      0          3467\n",
       "3            7                      0          4609\n",
       "7           23                      0          6971\n",
       "9           50                      0          6982\n",
       "15          56                      0         11659\n",
       "1            3                      0         12646\n",
       "2            7                      1         13417\n",
       "11          52                      0         14083\n",
       "13          55                      0         19864\n",
       "4           22                      1         22492\n",
       "0            3                      1         34516\n",
       "6           23                      1         35137\n",
       "8           50                      1         36309\n",
       "10          52                      1         37736\n",
       "12          55                      1         42080\n",
       "14          56                      1         48361"
      ]
     },
     "execution_count": 23,
     "metadata": {},
     "output_type": "execute_result"
    }
   ],
   "source": [
    "wegodf[['ROUTE_ABBR', 'ADJUSTED_ONTIME_COUNT']].groupby(['ROUTE_ABBR'])['ADJUSTED_ONTIME_COUNT']\\\n",
    "                                                        .value_counts()\\\n",
    "                                                        .reset_index(name = 'ontime_count')\\\n",
    "                                                        .sort_values(['ontime_count'])"
   ]
  },
  {
   "cell_type": "code",
   "execution_count": 11,
   "id": "cf1bfb00",
   "metadata": {
    "scrolled": true
   },
   "outputs": [
    {
     "data": {
      "text/plain": [
       "Index(['CALENDAR_ID', 'SERVICE_ABBR', 'ADHERENCE_ID', 'DATE', 'ROUTE_ABBR',\n",
       "       'BLOCK_ABBR', 'OPERATOR', 'TRIP_ID', 'OVERLOAD_ID',\n",
       "       'ROUTE_DIRECTION_NAME', 'TIME_POINT_ABBR', 'ROUTE_STOP_SEQUENCE',\n",
       "       'TRIP_EDGE', 'LATITUDE', 'LONGITUDE', 'SCHEDULED_TIME',\n",
       "       'ACTUAL_ARRIVAL_TIME', 'ACTUAL_DEPARTURE_TIME', 'ADHERENCE',\n",
       "       'SCHEDULED_HDWY', 'ACTUAL_HDWY', 'HDWY_DEV', 'ADJUSTED_EARLY_COUNT',\n",
       "       'ADJUSTED_LATE_COUNT', 'ADJUSTED_ONTIME_COUNT', 'STOP_CANCELLED',\n",
       "       'PREV_SCHED_STOP_CANCELLED', 'IS_RELIEF', 'DWELL_IN_MINS',\n",
       "       'SCHEDULED_LAYOVER_MINUTES'],\n",
       "      dtype='object')"
      ]
     },
     "execution_count": 11,
     "metadata": {},
     "output_type": "execute_result"
    }
   ],
   "source": [
    "wegodf.columns"
   ]
  },
  {
   "cell_type": "code",
   "execution_count": 12,
   "id": "5c72419e",
   "metadata": {},
   "outputs": [
    {
     "data": {
      "text/plain": [
       "ROUTE_ABBR\n",
       "3     47162\n",
       "7     18026\n",
       "22    25959\n",
       "23    42108\n",
       "50    43291\n",
       "52    51819\n",
       "55    61944\n",
       "56    60020\n",
       "Name: count, dtype: int64"
      ]
     },
     "execution_count": 12,
     "metadata": {},
     "output_type": "execute_result"
    }
   ],
   "source": [
    "wegodf['ROUTE_ABBR'].value_counts().sort_index()"
   ]
  },
  {
   "cell_type": "code",
   "execution_count": 13,
   "id": "f6448f59",
   "metadata": {
    "scrolled": true
   },
   "outputs": [],
   "source": [
    "to3 = (\n",
    "    wegodf\n",
    "    .loc[wegodf['ROUTE_ABBR'] == 3]\n",
    "    .loc[wegodf['ROUTE_DIRECTION_NAME'] == 'TO DOWNTOWN']\n",
    "#    .loc[wegodf['TIME_POINT_ABBR'] == 'CV23']\n",
    "    [['DATE', 'TRIP_ID', 'TIME_POINT_ABBR','ROUTE_DIRECTION_NAME', \n",
    "      'SCHEDULED_TIME', 'ADHERENCE', 'HDWY_DEV'\n",
    "     ]]\n",
    "    .sort_values(['DATE', 'SCHEDULED_TIME'])\n",
    "    .iloc[:]\n",
    ")"
   ]
  },
  {
   "cell_type": "code",
   "execution_count": 14,
   "id": "8b7e6721",
   "metadata": {},
   "outputs": [],
   "source": [
    "from3 = (\n",
    "    wegodf\n",
    "    .loc[wegodf['ROUTE_ABBR'] == 3]\n",
    "    .loc[wegodf['ROUTE_DIRECTION_NAME'] == 'FROM DOWNTOWN']\n",
    "#    .loc[wegodf['TIME_POINT_ABBR'] == 'CV23']\n",
    "    [['DATE', 'TRIP_ID', 'TIME_POINT_ABBR','ROUTE_DIRECTION_NAME', \n",
    "      'SCHEDULED_TIME', 'ADHERENCE', 'HDWY_DEV'\n",
    "     ]]\n",
    "    .sort_values(['DATE', 'SCHEDULED_TIME'])\n",
    "    .iloc[:]\n",
    ")"
   ]
  },
  {
   "cell_type": "code",
   "execution_count": 15,
   "id": "212695d0",
   "metadata": {},
   "outputs": [],
   "source": [
    "to7 = (\n",
    "    wegodf\n",
    "    .loc[wegodf['ROUTE_ABBR'] == 7]\n",
    "    .loc[wegodf['ROUTE_DIRECTION_NAME'] == 'TO DOWNTOWN']\n",
    "#    .loc[wegodf['TIME_POINT_ABBR'] == 'CV23']\n",
    "    [['DATE', 'TRIP_ID', 'TIME_POINT_ABBR','ROUTE_DIRECTION_NAME', \n",
    "      'SCHEDULED_TIME', 'ADHERENCE', 'HDWY_DEV'\n",
    "     ]]\n",
    "    .sort_values(['DATE', 'SCHEDULED_TIME'])\n",
    "    .iloc[:]\n",
    ")"
   ]
  },
  {
   "cell_type": "code",
   "execution_count": 16,
   "id": "552214a2",
   "metadata": {},
   "outputs": [],
   "source": [
    "from7 = (\n",
    "    wegodf\n",
    "    .loc[wegodf['ROUTE_ABBR'] == 7]\n",
    "    .loc[wegodf['ROUTE_DIRECTION_NAME'] == 'FROM DOWNTOWN']\n",
    "#    .loc[wegodf['TIME_POINT_ABBR'] == 'CV23']\n",
    "    [['DATE', 'TRIP_ID', 'TIME_POINT_ABBR','ROUTE_DIRECTION_NAME', \n",
    "      'SCHEDULED_TIME', 'ADHERENCE', 'HDWY_DEV'\n",
    "     ]]\n",
    "    .sort_values(['DATE', 'SCHEDULED_TIME'])\n",
    "    .iloc[:]\n",
    ")"
   ]
  },
  {
   "cell_type": "code",
   "execution_count": 17,
   "id": "9c8d50e6",
   "metadata": {},
   "outputs": [],
   "source": [
    "to22 = (\n",
    "    wegodf\n",
    "    .loc[wegodf['ROUTE_ABBR'] == 22]\n",
    "    .loc[wegodf['ROUTE_DIRECTION_NAME'] == 'TO DOWNTOWN']\n",
    "#    .loc[wegodf['TIME_POINT_ABBR'] == 'CV23']\n",
    "    [['DATE', 'TRIP_ID', 'TIME_POINT_ABBR','ROUTE_DIRECTION_NAME', 'TRIP_EDGE', \n",
    "      'SCHEDULED_TIME', 'SCHEDULED_HDWY',\n",
    "      'ACTUAL_DEPARTURE_TIME', 'ACTUAL_HDWY', 'HDWY_DEV'\n",
    "     ]]\n",
    "    .sort_values(['DATE', 'SCHEDULED_TIME'])\n",
    "    .iloc[:]\n",
    ")"
   ]
  },
  {
   "cell_type": "code",
   "execution_count": 18,
   "id": "0a3d8274",
   "metadata": {},
   "outputs": [],
   "source": [
    "from22 = (\n",
    "    wegodf\n",
    "    .loc[wegodf['ROUTE_ABBR'] == 22]\n",
    "    .loc[wegodf['ROUTE_DIRECTION_NAME'] == 'FROM DOWNTOWN']\n",
    "    .loc[wegodf['TIME_POINT_ABBR'] == 'CV23']\n",
    "    [['DATE', 'TRIP_ID', 'TIME_POINT_ABBR','ROUTE_DIRECTION_NAME', 'TRIP_EDGE', \n",
    "      'SCHEDULED_TIME', 'SCHEDULED_HDWY',\n",
    "      'ACTUAL_DEPARTURE_TIME', 'ACTUAL_HDWY', 'HDWY_DEV'\n",
    "     ]]\n",
    "    .sort_values(['DATE', 'SCHEDULED_TIME'])\n",
    "    .iloc[:]\n",
    ")"
   ]
  },
  {
   "cell_type": "code",
   "execution_count": 20,
   "id": "5e02e762",
   "metadata": {},
   "outputs": [
    {
     "data": {
      "text/plain": [
       "<Axes: xlabel='ADHERENCE', ylabel='ADHERENCE'>"
      ]
     },
     "execution_count": 20,
     "metadata": {},
     "output_type": "execute_result"
    },
    {
     "data": {
      "image/png": "[encoded data removed]",
      "text/plain": [
       "<Figure size 640x480 with 1 Axes>"
      ]
     },
     "metadata": {},
     "output_type": "display_data"
    }
   ],
   "source": [
    "sns.boxplot( x=to3['ADHERENCE'], y=from3['ADHERENCE'] )"
   ]
  },
  {
   "cell_type": "code",
   "execution_count": null,
   "id": "8e700a58",
   "metadata": {},
   "outputs": [],
   "source": []
  },
  {
   "cell_type": "markdown",
   "id": "04258d6f",
   "metadata": {},
   "source": [
    "## 3. How does time of day or day of week affect headway and on-time performance?\n"
   ]
  },
  {
   "cell_type": "code",
   "execution_count": null,
   "id": "140b9f4d",
   "metadata": {},
   "outputs": [],
   "source": []
  },
  {
   "cell_type": "code",
   "execution_count": null,
   "id": "b1750bdc",
   "metadata": {},
   "outputs": [],
   "source": []
  },
  {
   "cell_type": "markdown",
   "id": "95c5abfe",
   "metadata": {},
   "source": [
    "## 4. How much of a factor does the driver have on headway and on-time performance? The driver is indicated by the OPERATOR variable.\n"
   ]
  },
  {
   "cell_type": "code",
   "execution_count": null,
   "id": "8e8335c2",
   "metadata": {},
   "outputs": [],
   "source": []
  },
  {
   "cell_type": "code",
   "execution_count": null,
   "id": "545f346d",
   "metadata": {},
   "outputs": [],
   "source": []
  },
  {
   "cell_type": "markdown",
   "id": "56763fcc",
   "metadata": {},
   "source": [
    "## 5. Is there any relationship between lateness (ADHERENCE) and headway deviation?"
   ]
  },
  {
   "cell_type": "code",
   "execution_count": null,
   "id": "528e80e4",
   "metadata": {},
   "outputs": [],
   "source": []
  },
  {
   "cell_type": "code",
   "execution_count": null,
   "id": "ec3e5a8d",
   "metadata": {},
   "outputs": [],
   "source": []
  },
  {
   "cell_type": "markdown",
   "id": "979a5249",
   "metadata": {},
   "source": [
    "# Stretch Goals"
   ]
  },
  {
   "cell_type": "markdown",
   "id": "067aec2e",
   "metadata": {},
   "source": [
    "## 6. How much impact does being late or too spaced out at the first stop have downstream?"
   ]
  },
  {
   "cell_type": "code",
   "execution_count": null,
   "id": "ff994d61",
   "metadata": {},
   "outputs": [],
   "source": []
  },
  {
   "cell_type": "code",
   "execution_count": null,
   "id": "bd39f013",
   "metadata": {},
   "outputs": [],
   "source": []
  },
  {
   "cell_type": "markdown",
   "id": "cf1ee405",
   "metadata": {},
   "source": [
    "## 7. What is the impact of the layover at the start of the trip (the difference between the first stop arrival and departure time)? Does more dwell time at the beginning of a trip lead to more stable headways (lower values for % headway deviation)? Do trips with longer **scheduled** layover time have more stable headway values? "
   ]
  },
  {
   "cell_type": "code",
   "execution_count": null,
   "id": "3fc1a67e",
   "metadata": {},
   "outputs": [],
   "source": []
  },
  {
   "cell_type": "code",
   "execution_count": null,
   "id": "3d5651bf",
   "metadata": {},
   "outputs": [],
   "source": []
  },
  {
   "cell_type": "markdown",
   "id": "6d5baa62",
   "metadata": {},
   "source": [
    "## 8. What is the relationship between distance or time traveled since the start of a given trip and the headway deviation? Does headway become less stable the further along the route the bus has traveled?\n"
   ]
  }
 ],
 "metadata": {
  "kernelspec": {
   "display_name": "Python 3 (ipykernel)",
   "language": "python",
   "name": "python3"
  },
  "language_info": {
   "codemirror_mode": {
    "name": "ipython",
    "version": 3
   },
   "file_extension": ".py",
   "mimetype": "text/x-python",
   "name": "python",
   "nbconvert_exporter": "python",
   "pygments_lexer": "ipython3",
   "version": "3.11.7"
  }
 },
 "nbformat": 4,
 "nbformat_minor": 5
}
